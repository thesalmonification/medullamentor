{
 "cells": [
  {
   "cell_type": "code",
   "execution_count": 63,
   "id": "a61a413b",
   "metadata": {},
   "outputs": [
    {
     "name": "stdout",
     "output_type": "stream",
     "text": [
      "Unknown Tissue\n",
      "cerebral peduncle left\n",
      "internal capsule posterior limb right\n",
      "thalamus excluding pulvinar right\n",
      "abducens nucleus right\n",
      "mammillothalamic tract right\n",
      "inferior colliculus left\n",
      "fornix column right\n",
      "cuneate fasciculus left\n",
      "internal capsule posterior limb left\n",
      "mesencephalic trigeminal tract left\n"
     ]
    }
   ],
   "source": [
    "from PIL import Image\n",
    "import json\n",
    "import glob\n",
    " \n",
    "# image_name = \"image_00026\"\n",
    "json_folder = redjson\n",
    "label_folder = redlabels\n",
    "split_folder = redlabelsplit\n",
    "\n",
    "for name in glob.glob(json_folder + \"/\")\n",
    "\n",
    "# img = Image.open(image_name + \".png\").convert(\"RGB\")\n",
    "# width = img.width\n",
    "# height = img.height\n",
    "# px = img.load()\n",
    "\n",
    "# f = open(image_name + \".json\")\n",
    "# labels = json.load(f)\n",
    "# materials = []\n",
    "# for rows in labels:\n",
    "#     for columns in labels[rows]:\n",
    "#         material = labels[rows][columns]\n",
    "#         if material not in materials:\n",
    "#             materials.append(material)\n",
    "# materials.remove(\"Material93\")\n",
    "\n",
    "\n",
    "# for index in range(len(materials)):\n",
    "#     structure = materials[index]\n",
    "#     image = Image.new(\"RGBA\", (width, height))\n",
    "#     print(structure)\n",
    "#     for rows in labels:\n",
    "#         for columns in labels[rows]:\n",
    "#             if labels[rows][columns] == structure:\n",
    "#                 pixel = img.getpixel((int(rows), int(columns)))\n",
    "#                 image.putpixel((int(rows), int(columns)), pixel)\n",
    "#             else:\n",
    "#                 image.putpixel((int(rows), int(columns)), (0, 0, 0, 0))\n",
    "\n",
    "#     image.save(image_name + \"_\" + str(index) + \"_\" + \".png\")\n"
   ]
  },
  {
   "cell_type": "code",
   "execution_count": null,
   "id": "0031a2cf",
   "metadata": {},
   "outputs": [],
   "source": []
  },
  {
   "cell_type": "code",
   "execution_count": null,
   "id": "f303948d",
   "metadata": {},
   "outputs": [],
   "source": []
  }
 ],
 "metadata": {
  "kernelspec": {
   "display_name": "Python 3 (ipykernel)",
   "language": "python",
   "name": "python3"
  },
  "language_info": {
   "codemirror_mode": {
    "name": "ipython",
    "version": 3
   },
   "file_extension": ".py",
   "mimetype": "text/x-python",
   "name": "python",
   "nbconvert_exporter": "python",
   "pygments_lexer": "ipython3",
   "version": "3.11.4"
  }
 },
 "nbformat": 4,
 "nbformat_minor": 5
}
