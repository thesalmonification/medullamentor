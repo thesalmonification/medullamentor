{
 "cells": [
  {
   "cell_type": "code",
   "execution_count": 7,
   "id": "a61a413b",
   "metadata": {},
   "outputs": [
    {
     "name": "stdout",
     "output_type": "stream",
     "text": [
      "{'Unknown Tissue': 'image_00006_0_.png', 'cerebral peduncle left': 'image_00006_1_.png', 'inferior cerebellar peduncle right': 'image_00006_2_.png', 'inferior olive principal nucleus right': 'image_00006_3_.png', 'cuneate fasciculus left': 'image_00006_4_.png', 'spinothalamic tract right': 'image_00006_5_.png', 'spinal trigeminal tract right': 'image_00006_6_.png', 'external cuneate nucleus right': 'image_00006_7_.png', 'spinal trigeminal nucleus interpolaris right': 'image_00006_8_.png', 'mesencephalic trigeminal tract left': 'image_00006_9_.png', 'vestibular nucleus right': 'image_00006_10_.png', 'medial lemniscus right': 'image_00006_11_.png', 'medial longitudinal fasciulus right': 'image_00006_12_.png', 'medial lemniscus left': 'image_00006_13_.png', 'corticospinal tract left': 'image_00006_14_.png', 'medial longitudinal fasciulus left': 'image_00006_15_.png', 'abducens nucleus right': 'image_00006_16_.png', 'inferior olive principal nucleus left': 'image_00006_17_.png', 'vestibular nucleus left': 'image_00006_18_.png', 'cuneate nucleus left': 'image_00006_19_.png', 'spinal trigeminal nucleus interpolaris left': 'image_00006_20_.png', 'external cuneate nucleus left': 'image_00006_21_.png', 'spinal trigeminal tract left': 'image_00006_22_.png', 'spinothalamic tract left': 'image_00006_23_.png'}\n"
     ]
    },
    {
     "ename": "ValueError",
     "evalue": "If using all scalar values, you must pass an index",
     "output_type": "error",
     "traceback": [
      "\u001b[0;31m---------------------------------------------------------------------------\u001b[0m",
      "\u001b[0;31mValueError\u001b[0m                                Traceback (most recent call last)",
      "Cell \u001b[0;32mIn[7], line 65\u001b[0m\n\u001b[1;32m     58\u001b[0m     \u001b[39m#print(str(structure), name[-16:-5] + '_' + str(index) + \"_\" + \".png\")\u001b[39;00m\n\u001b[1;32m     59\u001b[0m     \n\u001b[1;32m     60\u001b[0m     \n\u001b[1;32m     61\u001b[0m \n\u001b[1;32m     62\u001b[0m \u001b[39m#Save the new json file to a folder. \u001b[39;00m\n\u001b[1;32m     63\u001b[0m \u001b[39m#First convert to a DF\u001b[39;00m\n\u001b[1;32m     64\u001b[0m \u001b[39mprint\u001b[39m(labels_json_list)\n\u001b[0;32m---> 65\u001b[0m splits_json_df \u001b[39m=\u001b[39m pd\u001b[39m.\u001b[39;49mDataFrame(labels_json_list)\n\u001b[1;32m     66\u001b[0m splits_json_df\u001b[39m.\u001b[39mto_json(out_json_path \u001b[39m+\u001b[39m name[\u001b[39m-\u001b[39m\u001b[39m16\u001b[39m:\u001b[39m-\u001b[39m\u001b[39m5\u001b[39m] \u001b[39m+\u001b[39m \u001b[39m'\u001b[39m\u001b[39m_splits.json\u001b[39m\u001b[39m'\u001b[39m)\n",
      "File \u001b[0;32m~/anaconda3/lib/python3.10/site-packages/pandas/core/frame.py:664\u001b[0m, in \u001b[0;36mDataFrame.__init__\u001b[0;34m(self, data, index, columns, dtype, copy)\u001b[0m\n\u001b[1;32m    658\u001b[0m     mgr \u001b[39m=\u001b[39m \u001b[39mself\u001b[39m\u001b[39m.\u001b[39m_init_mgr(\n\u001b[1;32m    659\u001b[0m         data, axes\u001b[39m=\u001b[39m{\u001b[39m\"\u001b[39m\u001b[39mindex\u001b[39m\u001b[39m\"\u001b[39m: index, \u001b[39m\"\u001b[39m\u001b[39mcolumns\u001b[39m\u001b[39m\"\u001b[39m: columns}, dtype\u001b[39m=\u001b[39mdtype, copy\u001b[39m=\u001b[39mcopy\n\u001b[1;32m    660\u001b[0m     )\n\u001b[1;32m    662\u001b[0m \u001b[39melif\u001b[39;00m \u001b[39misinstance\u001b[39m(data, \u001b[39mdict\u001b[39m):\n\u001b[1;32m    663\u001b[0m     \u001b[39m# GH#38939 de facto copy defaults to False only in non-dict cases\u001b[39;00m\n\u001b[0;32m--> 664\u001b[0m     mgr \u001b[39m=\u001b[39m dict_to_mgr(data, index, columns, dtype\u001b[39m=\u001b[39;49mdtype, copy\u001b[39m=\u001b[39;49mcopy, typ\u001b[39m=\u001b[39;49mmanager)\n\u001b[1;32m    665\u001b[0m \u001b[39melif\u001b[39;00m \u001b[39misinstance\u001b[39m(data, ma\u001b[39m.\u001b[39mMaskedArray):\n\u001b[1;32m    666\u001b[0m     \u001b[39mimport\u001b[39;00m \u001b[39mnumpy\u001b[39;00m\u001b[39m.\u001b[39;00m\u001b[39mma\u001b[39;00m\u001b[39m.\u001b[39;00m\u001b[39mmrecords\u001b[39;00m \u001b[39mas\u001b[39;00m \u001b[39mmrecords\u001b[39;00m\n",
      "File \u001b[0;32m~/anaconda3/lib/python3.10/site-packages/pandas/core/internals/construction.py:493\u001b[0m, in \u001b[0;36mdict_to_mgr\u001b[0;34m(data, index, columns, dtype, typ, copy)\u001b[0m\n\u001b[1;32m    489\u001b[0m     \u001b[39melse\u001b[39;00m:\n\u001b[1;32m    490\u001b[0m         \u001b[39m# dtype check to exclude e.g. range objects, scalars\u001b[39;00m\n\u001b[1;32m    491\u001b[0m         arrays \u001b[39m=\u001b[39m [x\u001b[39m.\u001b[39mcopy() \u001b[39mif\u001b[39;00m \u001b[39mhasattr\u001b[39m(x, \u001b[39m\"\u001b[39m\u001b[39mdtype\u001b[39m\u001b[39m\"\u001b[39m) \u001b[39melse\u001b[39;00m x \u001b[39mfor\u001b[39;00m x \u001b[39min\u001b[39;00m arrays]\n\u001b[0;32m--> 493\u001b[0m \u001b[39mreturn\u001b[39;00m arrays_to_mgr(arrays, columns, index, dtype\u001b[39m=\u001b[39;49mdtype, typ\u001b[39m=\u001b[39;49mtyp, consolidate\u001b[39m=\u001b[39;49mcopy)\n",
      "File \u001b[0;32m~/anaconda3/lib/python3.10/site-packages/pandas/core/internals/construction.py:118\u001b[0m, in \u001b[0;36marrays_to_mgr\u001b[0;34m(arrays, columns, index, dtype, verify_integrity, typ, consolidate)\u001b[0m\n\u001b[1;32m    115\u001b[0m \u001b[39mif\u001b[39;00m verify_integrity:\n\u001b[1;32m    116\u001b[0m     \u001b[39m# figure out the index, if necessary\u001b[39;00m\n\u001b[1;32m    117\u001b[0m     \u001b[39mif\u001b[39;00m index \u001b[39mis\u001b[39;00m \u001b[39mNone\u001b[39;00m:\n\u001b[0;32m--> 118\u001b[0m         index \u001b[39m=\u001b[39m _extract_index(arrays)\n\u001b[1;32m    119\u001b[0m     \u001b[39melse\u001b[39;00m:\n\u001b[1;32m    120\u001b[0m         index \u001b[39m=\u001b[39m ensure_index(index)\n",
      "File \u001b[0;32m~/anaconda3/lib/python3.10/site-packages/pandas/core/internals/construction.py:656\u001b[0m, in \u001b[0;36m_extract_index\u001b[0;34m(data)\u001b[0m\n\u001b[1;32m    653\u001b[0m         \u001b[39mraise\u001b[39;00m \u001b[39mValueError\u001b[39;00m(\u001b[39m\"\u001b[39m\u001b[39mPer-column arrays must each be 1-dimensional\u001b[39m\u001b[39m\"\u001b[39m)\n\u001b[1;32m    655\u001b[0m \u001b[39mif\u001b[39;00m \u001b[39mnot\u001b[39;00m indexes \u001b[39mand\u001b[39;00m \u001b[39mnot\u001b[39;00m raw_lengths:\n\u001b[0;32m--> 656\u001b[0m     \u001b[39mraise\u001b[39;00m \u001b[39mValueError\u001b[39;00m(\u001b[39m\"\u001b[39m\u001b[39mIf using all scalar values, you must pass an index\u001b[39m\u001b[39m\"\u001b[39m)\n\u001b[1;32m    658\u001b[0m \u001b[39melif\u001b[39;00m have_series:\n\u001b[1;32m    659\u001b[0m     index \u001b[39m=\u001b[39m union_indexes(indexes)\n",
      "\u001b[0;31mValueError\u001b[0m: If using all scalar values, you must pass an index"
     ]
    }
   ],
   "source": [
    "from PIL import Image\n",
    "import json\n",
    "import glob\n",
    "import pandas as pd\n",
    " \n",
    "# image_name = \"image_00026\"\n",
    "json_folder = \"redjson\"\n",
    "label_folder = \"redlabels\"\n",
    "split_folder = \"redlabelsplit\"\n",
    "json_split_folder = \"redlabelsplitjson\"\n",
    "\n",
    "for name in glob.glob(json_folder + \"/*.json\"):\n",
    "#     print(name)\n",
    "    image_path = label_folder + \"/\" + name[-16:-5] + \".png\"\n",
    "    json_path = name\n",
    "    out_path = split_folder + \"/\" + name[-16:-5]\n",
    "\n",
    "    out_json_path = json_split_folder + '/'\n",
    "#     print(image_path)\n",
    "#     print(json_path)\n",
    "    \n",
    "\n",
    "    img = Image.open(image_path).convert(\"RGB\")\n",
    "    width = img.width\n",
    "    height = img.height\n",
    "    px = img.load()\n",
    "\n",
    "    f = open(json_path)\n",
    "    labels = json.load(f)\n",
    "    materials = []\n",
    "    for rows in labels:\n",
    "        for columns in labels[rows]:\n",
    "            material = labels[rows][columns]\n",
    "            if material not in materials:\n",
    "                materials.append(material)\n",
    "    materials.remove(\"Material93\")\n",
    "\n",
    "    #Here's where I create another json file -> for each image, I need a corresponding json that maps to sub image given a label.\n",
    "    #Therefore, there will be a json file called image_xxxxx_segmentation.json that maps a structure to a split image (e.g. image_xxxxx_x.png)\n",
    "    labels_json_list = {}\n",
    "\n",
    "    for index in range(len(materials)):\n",
    "        structure = materials[index]\n",
    "        image = Image.new(\"RGBA\", (width, height))\n",
    "#         print(structure)\n",
    "        for rows in labels:\n",
    "            for columns in labels[rows]:\n",
    "                if labels[rows][columns] == structure:\n",
    "                    pixel = img.getpixel((int(rows), int(columns)))\n",
    "                    image.putpixel((int(rows), int(columns)), pixel)\n",
    "                else:\n",
    "                    image.putpixel((int(rows), int(columns)), (0, 0, 0, 0))\n",
    "\n",
    "        image.save(out_path + \"_\" + str(index) + \"_\" + \".png\")\n",
    "\n",
    "        #Append to a the dict: label->image\n",
    "        labels_json_list[structure] = name[-16:-5] + '_' + str(index) + \"_\" + \".png\"\n",
    "        #print(str(structure), name[-16:-5] + '_' + str(index) + \"_\" + \".png\")\n",
    "        \n",
    "        \n",
    "\n",
    "    #Save the new json file to a folder. \n",
    "    #First convert to a DF\n",
    "    print(labels_json_list)\n",
    "    splits_json_df = pd.Series(labels_json_list)\n",
    "    splits_json_df.to_json(out_json_path + name[-16:-5] + '_splits.json')\n",
    "    #print(out_json_path + name[-16:-5] + '_splits.json')\n"
   ]
  },
  {
   "cell_type": "code",
   "execution_count": null,
   "id": "0031a2cf",
   "metadata": {},
   "outputs": [],
   "source": [
    "#Duncan adding json files for the label overlay..."
   ]
  },
  {
   "cell_type": "code",
   "execution_count": null,
   "id": "f303948d",
   "metadata": {},
   "outputs": [],
   "source": []
  }
 ],
 "metadata": {
  "kernelspec": {
   "display_name": "Python 3 (ipykernel)",
   "language": "python",
   "name": "python3"
  },
  "language_info": {
   "codemirror_mode": {
    "name": "ipython",
    "version": 3
   },
   "file_extension": ".py",
   "mimetype": "text/x-python",
   "name": "python",
   "nbconvert_exporter": "python",
   "pygments_lexer": "ipython3",
   "version": "3.10.9"
  }
 },
 "nbformat": 4,
 "nbformat_minor": 5
}
