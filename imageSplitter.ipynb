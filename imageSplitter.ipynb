{
 "cells": [
  {
   "cell_type": "code",
   "execution_count": null,
   "id": "a61a413b",
   "metadata": {},
   "outputs": [],
   "source": [
    "from PIL import Image\n",
    "import json\n",
    "import glob\n",
    " \n",
    "# image_name = \"image_00026\"\n",
    "json_folder = \"redjson\"\n",
    "label_folder = \"redlabels\"\n",
    "split_folder = \"redlabelsplit\"\n",
    "\n",
    "for name in glob.glob(json_folder + \"/*.json\"):\n",
    "#     print(name)\n",
    "    image_path = label_folder + \"/\" + name[-16:-5] + \".png\"\n",
    "    json_path = name\n",
    "    out_path = split_folder + \"/\" + name[-16:-5]\n",
    "#     print(image_path)\n",
    "#     print(json_path)\n",
    "    \n",
    "\n",
    "    img = Image.open(image_path).convert(\"RGB\")\n",
    "    width = img.width\n",
    "    height = img.height\n",
    "    px = img.load()\n",
    "\n",
    "    f = open(json_path)\n",
    "    labels = json.load(f)\n",
    "    materials = []\n",
    "    for rows in labels:\n",
    "        for columns in labels[rows]:\n",
    "            material = labels[rows][columns]\n",
    "            if material not in materials:\n",
    "                materials.append(material)\n",
    "    materials.remove(\"Material93\")\n",
    "\n",
    "\n",
    "    for index in range(len(materials)):\n",
    "        structure = materials[index]\n",
    "        image = Image.new(\"RGBA\", (width, height))\n",
    "#         print(structure)\n",
    "        for rows in labels:\n",
    "            for columns in labels[rows]:\n",
    "                if labels[rows][columns] == structure:\n",
    "                    pixel = img.getpixel((int(rows), int(columns)))\n",
    "                    image.putpixel((int(rows), int(columns)), pixel)\n",
    "                else:\n",
    "                    image.putpixel((int(rows), int(columns)), (0, 0, 0, 0))\n",
    "\n",
    "        image.save(out_path + \"_\" + str(index) + \"_\" + \".png\")\n"
   ]
  },
  {
   "cell_type": "code",
   "execution_count": null,
   "id": "0031a2cf",
   "metadata": {},
   "outputs": [],
   "source": []
  },
  {
   "cell_type": "code",
   "execution_count": null,
   "id": "f303948d",
   "metadata": {},
   "outputs": [],
   "source": []
  }
 ],
 "metadata": {
  "kernelspec": {
   "display_name": "Python 3 (ipykernel)",
   "language": "python",
   "name": "python3"
  },
  "language_info": {
   "codemirror_mode": {
    "name": "ipython",
    "version": 3
   },
   "file_extension": ".py",
   "mimetype": "text/x-python",
   "name": "python",
   "nbconvert_exporter": "python",
   "pygments_lexer": "ipython3",
   "version": "3.11.4"
  }
 },
 "nbformat": 4,
 "nbformat_minor": 5
}
